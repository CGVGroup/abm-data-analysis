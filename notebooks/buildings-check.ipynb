{
 "cells": [
  {
   "cell_type": "code",
   "execution_count": 2,
   "metadata": {
    "collapsed": true,
    "ExecuteTime": {
     "end_time": "2023-10-19T14:11:56.027431Z",
     "start_time": "2023-10-19T14:11:53.753986500Z"
    }
   },
   "outputs": [],
   "source": [
    "import numpy as np\n",
    "import pandas as pd\n",
    "import os\n",
    "import re\n",
    "import matplotlib.pyplot as plt\n",
    "from sklearn.metrics import mean_squared_error\n",
    "from math import sqrt\n",
    "import numpy as np\n",
    "\n",
    "%config InlineBackend.figure_format = 'retina'\n",
    "from datetime import datetime"
   ]
  },
  {
   "cell_type": "code",
   "execution_count": 4,
   "outputs": [
    {
     "data": {
      "text/plain": "          BuildingName\n0     Office_000236000\n1     Office_000237000\n2     Office_000238000\n3     Office_000239000\n4     Office_000240000\n...                ...\n3461  Office_948918000\n3462  Office_948919000\n3463  Office_948920000\n3464  Office_948921000\n3465           Column1\n\n[3466 rows x 1 columns]",
      "text/html": "<div>\n<style scoped>\n    .dataframe tbody tr th:only-of-type {\n        vertical-align: middle;\n    }\n\n    .dataframe tbody tr th {\n        vertical-align: top;\n    }\n\n    .dataframe thead th {\n        text-align: right;\n    }\n</style>\n<table border=\"1\" class=\"dataframe\">\n  <thead>\n    <tr style=\"text-align: right;\">\n      <th></th>\n      <th>BuildingName</th>\n    </tr>\n  </thead>\n  <tbody>\n    <tr>\n      <th>0</th>\n      <td>Office_000236000</td>\n    </tr>\n    <tr>\n      <th>1</th>\n      <td>Office_000237000</td>\n    </tr>\n    <tr>\n      <th>2</th>\n      <td>Office_000238000</td>\n    </tr>\n    <tr>\n      <th>3</th>\n      <td>Office_000239000</td>\n    </tr>\n    <tr>\n      <th>4</th>\n      <td>Office_000240000</td>\n    </tr>\n    <tr>\n      <th>...</th>\n      <td>...</td>\n    </tr>\n    <tr>\n      <th>3461</th>\n      <td>Office_948918000</td>\n    </tr>\n    <tr>\n      <th>3462</th>\n      <td>Office_948919000</td>\n    </tr>\n    <tr>\n      <th>3463</th>\n      <td>Office_948920000</td>\n    </tr>\n    <tr>\n      <th>3464</th>\n      <td>Office_948921000</td>\n    </tr>\n    <tr>\n      <th>3465</th>\n      <td>Column1</td>\n    </tr>\n  </tbody>\n</table>\n<p>3466 rows × 1 columns</p>\n</div>"
     },
     "execution_count": 4,
     "metadata": {},
     "output_type": "execute_result"
    }
   ],
   "source": [
    "buildings_df = pd.read_csv('../data/BuildingNames.csv')\n",
    "buildings_df"
   ],
   "metadata": {
    "collapsed": false,
    "ExecuteTime": {
     "end_time": "2023-10-19T14:12:09.243302200Z",
     "start_time": "2023-10-19T14:12:09.223009900Z"
    }
   }
  },
  {
   "cell_type": "code",
   "execution_count": 11,
   "outputs": [
    {
     "name": "stdout",
     "output_type": "stream",
     "text": [
      "First Floors 0 // Second Floors 0\n"
     ]
    }
   ],
   "source": [
    "first_floors = 0\n",
    "second_floors = 0\n",
    "for index in range(len(buildings_df)-1):\n",
    "    row = buildings_df.iloc[index]\n",
    "    building_name = row['BuildingName']\n",
    "    building_index = building_name.split('_')[1]\n",
    "    building_floor = building_index[-3:]\n",
    "\n",
    "    if '5' in building_floor:\n",
    "        first_floors += 1\n",
    "    if '6' in building_floor:\n",
    "        second_floors += 1\n",
    "\n",
    "print(f'First Floors {first_floors} // Second Floors {second_floors}')\n",
    "\n"
   ],
   "metadata": {
    "collapsed": false,
    "ExecuteTime": {
     "end_time": "2023-10-19T14:18:53.220186500Z",
     "start_time": "2023-10-19T14:18:53.117969300Z"
    }
   }
  }
 ],
 "metadata": {
  "kernelspec": {
   "display_name": "Python 3",
   "language": "python",
   "name": "python3"
  },
  "language_info": {
   "codemirror_mode": {
    "name": "ipython",
    "version": 2
   },
   "file_extension": ".py",
   "mimetype": "text/x-python",
   "name": "python",
   "nbconvert_exporter": "python",
   "pygments_lexer": "ipython2",
   "version": "2.7.6"
  }
 },
 "nbformat": 4,
 "nbformat_minor": 0
}
