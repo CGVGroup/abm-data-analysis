{
 "cells": [
  {
   "cell_type": "code",
   "execution_count": 1,
   "metadata": {
    "collapsed": true,
    "ExecuteTime": {
     "end_time": "2023-07-14T14:34:51.534257Z",
     "start_time": "2023-07-14T14:34:49.822170600Z"
    }
   },
   "outputs": [],
   "source": [
    "import pandas as pd"
   ]
  },
  {
   "cell_type": "markdown",
   "source": [
    "# Data Reading"
   ],
   "metadata": {
    "collapsed": false
   }
  },
  {
   "cell_type": "markdown",
   "source": [
    "## Read Turin Real Data\n",
    "Real Turin Data is extracted from: [https://covid19.infn.it/iss/](https://covid19.infn.it/iss/)\n"
   ],
   "metadata": {
    "collapsed": false
   }
  },
  {
   "cell_type": "code",
   "execution_count": 40,
   "outputs": [],
   "source": [
    "turin_real_deaths = pd.read_csv('../data/turin-real/iss_bydate_torino_deceduti.csv', delimiter=',')\n",
    "turin_real_positives = pd.read_csv('../data/turin-real/iss_bydate_torino_positivi.csv', delimiter=',')\n",
    "turin_real_recoveries = pd.read_csv('../data/turin-real/iss_bydate_torino_ricoveri.csv', delimiter=',')\n",
    "turin_real_icu = pd.read_csv('../data/turin-real/iss_bydate_torino_terapia_intensiva.csv', delimiter=',')"
   ],
   "metadata": {
    "collapsed": false,
    "ExecuteTime": {
     "end_time": "2023-07-14T15:33:53.789254700Z",
     "start_time": "2023-07-14T15:33:53.779650300Z"
    }
   }
  },
  {
   "cell_type": "code",
   "execution_count": 66,
   "outputs": [
    {
     "data": {
      "text/plain": "            date  casi  recoveries_7_days\n0     2020-02-21 -9999                NaN\n1     2020-02-22 -9999                NaN\n2     2020-02-23 -9999                NaN\n3     2020-02-24 -9999           1.142857\n4     2020-02-25 -9999           1.142857\n...          ...   ...                ...\n1225  2023-06-30 -9999           0.000000\n1226  2023-07-01 -9999           0.142857\n1227  2023-07-02 -9999                NaN\n1228  2023-07-03 -9999                NaN\n1229  2023-07-04 -9999                NaN\n\n[1230 rows x 3 columns]",
      "text/html": "<div>\n<style scoped>\n    .dataframe tbody tr th:only-of-type {\n        vertical-align: middle;\n    }\n\n    .dataframe tbody tr th {\n        vertical-align: top;\n    }\n\n    .dataframe thead th {\n        text-align: right;\n    }\n</style>\n<table border=\"1\" class=\"dataframe\">\n  <thead>\n    <tr style=\"text-align: right;\">\n      <th></th>\n      <th>date</th>\n      <th>casi</th>\n      <th>recoveries_7_days</th>\n    </tr>\n  </thead>\n  <tbody>\n    <tr>\n      <th>0</th>\n      <td>2020-02-21</td>\n      <td>-9999</td>\n      <td>NaN</td>\n    </tr>\n    <tr>\n      <th>1</th>\n      <td>2020-02-22</td>\n      <td>-9999</td>\n      <td>NaN</td>\n    </tr>\n    <tr>\n      <th>2</th>\n      <td>2020-02-23</td>\n      <td>-9999</td>\n      <td>NaN</td>\n    </tr>\n    <tr>\n      <th>3</th>\n      <td>2020-02-24</td>\n      <td>-9999</td>\n      <td>1.142857</td>\n    </tr>\n    <tr>\n      <th>4</th>\n      <td>2020-02-25</td>\n      <td>-9999</td>\n      <td>1.142857</td>\n    </tr>\n    <tr>\n      <th>...</th>\n      <td>...</td>\n      <td>...</td>\n      <td>...</td>\n    </tr>\n    <tr>\n      <th>1225</th>\n      <td>2023-06-30</td>\n      <td>-9999</td>\n      <td>0.000000</td>\n    </tr>\n    <tr>\n      <th>1226</th>\n      <td>2023-07-01</td>\n      <td>-9999</td>\n      <td>0.142857</td>\n    </tr>\n    <tr>\n      <th>1227</th>\n      <td>2023-07-02</td>\n      <td>-9999</td>\n      <td>NaN</td>\n    </tr>\n    <tr>\n      <th>1228</th>\n      <td>2023-07-03</td>\n      <td>-9999</td>\n      <td>NaN</td>\n    </tr>\n    <tr>\n      <th>1229</th>\n      <td>2023-07-04</td>\n      <td>-9999</td>\n      <td>NaN</td>\n    </tr>\n  </tbody>\n</table>\n<p>1230 rows × 3 columns</p>\n</div>"
     },
     "execution_count": 66,
     "metadata": {},
     "output_type": "execute_result"
    }
   ],
   "source": [
    "turin_real_recoveries"
   ],
   "metadata": {
    "collapsed": false,
    "ExecuteTime": {
     "end_time": "2023-07-14T16:08:50.152204Z",
     "start_time": "2023-07-14T16:08:50.142884600Z"
    }
   }
  },
  {
   "cell_type": "code",
   "execution_count": 61,
   "outputs": [
    {
     "data": {
      "text/plain": "            date  positives_7_days  deaths_7_days  recoveries_7_days  \\\n0     2020-02-20               NaN            NaN                NaN   \n1     2020-02-21               NaN            NaN                NaN   \n2     2020-02-22               NaN            NaN                NaN   \n3     2020-02-23          0.857143            NaN                NaN   \n4     2020-02-24          0.857143            NaN           1.142857   \n...          ...               ...            ...                ...   \n1231  2023-07-05          0.428571            NaN                NaN   \n1232  2023-07-06          0.428571            NaN                NaN   \n1233  2023-07-07               NaN            NaN                NaN   \n1234  2023-07-08               NaN            NaN                NaN   \n1235  2023-07-09               NaN            NaN                NaN   \n\n      icu_7_days  \n0            NaN  \n1            NaN  \n2            NaN  \n3            NaN  \n4            NaN  \n...          ...  \n1231         NaN  \n1232         NaN  \n1233         NaN  \n1234         NaN  \n1235         NaN  \n\n[1236 rows x 5 columns]",
      "text/html": "<div>\n<style scoped>\n    .dataframe tbody tr th:only-of-type {\n        vertical-align: middle;\n    }\n\n    .dataframe tbody tr th {\n        vertical-align: top;\n    }\n\n    .dataframe thead th {\n        text-align: right;\n    }\n</style>\n<table border=\"1\" class=\"dataframe\">\n  <thead>\n    <tr style=\"text-align: right;\">\n      <th></th>\n      <th>date</th>\n      <th>positives_7_days</th>\n      <th>deaths_7_days</th>\n      <th>recoveries_7_days</th>\n      <th>icu_7_days</th>\n    </tr>\n  </thead>\n  <tbody>\n    <tr>\n      <th>0</th>\n      <td>2020-02-20</td>\n      <td>NaN</td>\n      <td>NaN</td>\n      <td>NaN</td>\n      <td>NaN</td>\n    </tr>\n    <tr>\n      <th>1</th>\n      <td>2020-02-21</td>\n      <td>NaN</td>\n      <td>NaN</td>\n      <td>NaN</td>\n      <td>NaN</td>\n    </tr>\n    <tr>\n      <th>2</th>\n      <td>2020-02-22</td>\n      <td>NaN</td>\n      <td>NaN</td>\n      <td>NaN</td>\n      <td>NaN</td>\n    </tr>\n    <tr>\n      <th>3</th>\n      <td>2020-02-23</td>\n      <td>0.857143</td>\n      <td>NaN</td>\n      <td>NaN</td>\n      <td>NaN</td>\n    </tr>\n    <tr>\n      <th>4</th>\n      <td>2020-02-24</td>\n      <td>0.857143</td>\n      <td>NaN</td>\n      <td>1.142857</td>\n      <td>NaN</td>\n    </tr>\n    <tr>\n      <th>...</th>\n      <td>...</td>\n      <td>...</td>\n      <td>...</td>\n      <td>...</td>\n      <td>...</td>\n    </tr>\n    <tr>\n      <th>1231</th>\n      <td>2023-07-05</td>\n      <td>0.428571</td>\n      <td>NaN</td>\n      <td>NaN</td>\n      <td>NaN</td>\n    </tr>\n    <tr>\n      <th>1232</th>\n      <td>2023-07-06</td>\n      <td>0.428571</td>\n      <td>NaN</td>\n      <td>NaN</td>\n      <td>NaN</td>\n    </tr>\n    <tr>\n      <th>1233</th>\n      <td>2023-07-07</td>\n      <td>NaN</td>\n      <td>NaN</td>\n      <td>NaN</td>\n      <td>NaN</td>\n    </tr>\n    <tr>\n      <th>1234</th>\n      <td>2023-07-08</td>\n      <td>NaN</td>\n      <td>NaN</td>\n      <td>NaN</td>\n      <td>NaN</td>\n    </tr>\n    <tr>\n      <th>1235</th>\n      <td>2023-07-09</td>\n      <td>NaN</td>\n      <td>NaN</td>\n      <td>NaN</td>\n      <td>NaN</td>\n    </tr>\n  </tbody>\n</table>\n<p>1236 rows × 5 columns</p>\n</div>"
     },
     "execution_count": 61,
     "metadata": {},
     "output_type": "execute_result"
    }
   ],
   "source": [
    "def join_based_on_min_date(df1, df2):\n",
    "    min_date = min(df1['date'].min(), df2['date'].min())\n",
    "    if min_date == df1['date'].min():\n",
    "        left_df = df1\n",
    "        right_df = df2\n",
    "    else:\n",
    "        left_df = df2\n",
    "        right_df = df1\n",
    "\n",
    "    merged = pd.merge(left_df, right_df, on='date', how='left')\n",
    "    return merged.filter(regex=r'^(?!.*casi).*$', axis=1)\n",
    "\n",
    "turin_real_deaths.columns = ['date','casi','deaths_7_days']\n",
    "turin_real_positives.columns = ['date','casi','positives_7_days']\n",
    "turin_real_recoveries.columns = ['date','casi','recoveries_7_days']\n",
    "turin_real_icu.columns = ['date','casi','icu_7_days']\n",
    "\n",
    "turin_real = join_based_on_min_date(turin_real_deaths,turin_real_positives)\n",
    "turin_real = join_based_on_min_date(turin_real,turin_real_recoveries)\n",
    "turin_real = join_based_on_min_date(turin_real,turin_real_icu)\n",
    "turin_real"
   ],
   "metadata": {
    "collapsed": false,
    "ExecuteTime": {
     "end_time": "2023-07-14T16:07:27.810399600Z",
     "start_time": "2023-07-14T16:07:27.791074600Z"
    }
   }
  }
 ],
 "metadata": {
  "kernelspec": {
   "display_name": "Python 3",
   "language": "python",
   "name": "python3"
  },
  "language_info": {
   "codemirror_mode": {
    "name": "ipython",
    "version": 2
   },
   "file_extension": ".py",
   "mimetype": "text/x-python",
   "name": "python",
   "nbconvert_exporter": "python",
   "pygments_lexer": "ipython2",
   "version": "2.7.6"
  }
 },
 "nbformat": 4,
 "nbformat_minor": 0
}
