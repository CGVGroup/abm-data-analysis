{
 "cells": [
  {
   "cell_type": "code",
   "execution_count": null,
   "metadata": {
    "collapsed": true
   },
   "outputs": [],
   "source": [
    "import numpy as np\n",
    "import pandas as pd\n",
    "import os\n",
    "import re\n",
    "import matplotlib.pyplot as plt\n",
    "from sklearn.metrics import mean_squared_error\n",
    "from math import sqrt\n",
    "import numpy as np\n",
    "\n",
    "%config InlineBackend.figure_format = 'retina'\n",
    "from datetime import datetime"
   ]
  },
  {
   "cell_type": "code",
   "execution_count": null,
   "outputs": [],
   "source": [
    "simulations_logs_dir = '../data/simulations'\n",
    "building_concurrent_logs_df_dictionary = {}\n",
    "building_simulations_conf_df_dictionary = {}\n",
    "\n",
    "for sim_folder_name in os.listdir(simulations_logs_dir):\n",
    "    # Regular expression to find the first two-digit number\n",
    "    pattern = r'(\\d{2})'\n",
    "    sim_number = int(re.search(pattern, sim_folder_name).group())\n",
    "\n",
    "    print(sim_number)\n",
    "    log_file_path = os.path.join(simulations_logs_dir,sim_folder_name, 'log_'+sim_folder_name +'.csv')\n",
    "    log_df = pd.read_csv(log_file_path, delimiter=';')\n",
    "    simulations_logs_df_dictionary[sim_number] = log_df\n",
    "\n",
    "    conf_file_path = os.path.join(simulations_logs_dir,sim_folder_name, 'conf_'+sim_folder_name + '.json')\n",
    "    #conf_df = pd.read_json(log_file_path)\n",
    "    #simulations_conf_df_dictionary[sim_number] = conf_df"
   ],
   "metadata": {
    "collapsed": false
   }
  }
 ],
 "metadata": {
  "kernelspec": {
   "display_name": "Python 3",
   "language": "python",
   "name": "python3"
  },
  "language_info": {
   "codemirror_mode": {
    "name": "ipython",
    "version": 2
   },
   "file_extension": ".py",
   "mimetype": "text/x-python",
   "name": "python",
   "nbconvert_exporter": "python",
   "pygments_lexer": "ipython2",
   "version": "2.7.6"
  }
 },
 "nbformat": 4,
 "nbformat_minor": 0
}
